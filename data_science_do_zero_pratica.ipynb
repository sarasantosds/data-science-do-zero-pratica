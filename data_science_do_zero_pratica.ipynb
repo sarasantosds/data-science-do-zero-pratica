{
  "nbformat": 4,
  "nbformat_minor": 0,
  "metadata": {
    "colab": {
      "provenance": [],
      "authorship_tag": "ABX9TyNyRHLYVWIc93DSv0qaCvee",
      "include_colab_link": true
    },
    "kernelspec": {
      "name": "python3",
      "display_name": "Python 3"
    },
    "language_info": {
      "name": "python"
    }
  },
  "cells": [
    {
      "cell_type": "markdown",
      "metadata": {
        "id": "view-in-github",
        "colab_type": "text"
      },
      "source": [
        "<a href=\"https://colab.research.google.com/github/sarasantosds/data-science-do-zero-pratica/blob/main/data_science_do_zero_pratica.ipynb\" target=\"_parent\"><img src=\"https://colab.research.google.com/assets/colab-badge.svg\" alt=\"Open In Colab\"/></a>"
      ]
    },
    {
      "cell_type": "markdown",
      "source": [
        "# Data Science do Zero: Noções fundamentais em Python\n",
        "\n",
        "### Praticando os exemplos do livro de forma independente"
      ],
      "metadata": {
        "id": "HMldaOrYqXre"
      }
    },
    {
      "cell_type": "markdown",
      "source": [
        "Os exemplos aqui praticados não visam copiar a lógica do autor Joel Grus, mas sim explorar outras formas de se chegar ao mesmo resultado por ele obtido.\n",
        "Quando a solução for retirada do livro irei mencionar em comentário ou fazer comparação com a solução aqui exposta."
      ],
      "metadata": {
        "id": "gyHDTcZ5rRxB"
      }
    },
    {
      "cell_type": "code",
      "execution_count": 1,
      "metadata": {
        "id": "hJZ5sGHvqCVy"
      },
      "outputs": [],
      "source": [
        "usuarios = [\n",
        "    {\"id\": 0, \"name\": \"Xin\"},\n",
        "    {\"id\": 1, \"name\": \"San\"},\n",
        "    {\"id\": 2, \"name\": \"Ped\"},\n",
        "    {\"id\": 3, \"name\": \"Chin\"},\n",
        "    {\"id\": 4, \"name\": \"Gol\"},\n",
        "    {\"id\": 5, \"name\": \"Nen\"},\n",
        "    {\"id\": 6, \"name\": \"Pod\"},\n",
        "    {\"id\": 7, \"name\": \"Dev\"},\n",
        "    {\"id\": 8, \"name\": \"Kat\"},\n",
        "    {\"id\": 9, \"name\": \"Klen\"}\n",
        "]"
      ]
    },
    {
      "cell_type": "code",
      "source": [
        "amigos = [(0,1), (0,2), (1,2), (1,3), (2,3), (3,4), (4,5), (5,6), (5,7), (6,8), (7,8), (8,9)]"
      ],
      "metadata": {
        "id": "fKcHPfh5rq9Y"
      },
      "execution_count": 2,
      "outputs": []
    },
    {
      "cell_type": "code",
      "source": [
        "# solução retirada do livro - página 5\n",
        "amizade = {usuario[\"id\"]: [] for usuario in usuarios}\n",
        "\n",
        "for i, j in amigos:\n",
        "    amizade[i].append(j)\n",
        "    amizade[j].append(i)\n",
        "\n",
        "print(amizade)"
      ],
      "metadata": {
        "colab": {
          "base_uri": "https://localhost:8080/"
        },
        "id": "MgIfSJAkrvQk",
        "outputId": "dd674789-d857-4fa4-d69c-f26ba57e1103"
      },
      "execution_count": 3,
      "outputs": [
        {
          "output_type": "stream",
          "name": "stdout",
          "text": [
            "{0: [1, 2], 1: [0, 2, 3], 2: [0, 1, 3], 3: [1, 2, 4], 4: [3, 5], 5: [4, 6, 7], 6: [5, 8], 7: [5, 8], 8: [6, 7, 9], 9: [8]}\n"
          ]
        }
      ]
    },
    {
      "cell_type": "code",
      "source": [
        "# solução independente\n",
        "l = 0\n",
        "for amigo in amizade.values():\n",
        "    l += len(amigo)\n",
        "\n",
        "gm = l / len(amizade)\n",
        "\n",
        "print(f'Média de conexões: {round(gm, 1)}')"
      ],
      "metadata": {
        "colab": {
          "base_uri": "https://localhost:8080/"
        },
        "id": "qe7r84m9sKxE",
        "outputId": "8b7d5e49-0dd8-466a-f4e4-9468d389b4d1"
      },
      "execution_count": 4,
      "outputs": [
        {
          "output_type": "stream",
          "name": "stdout",
          "text": [
            "Média de conexões: 2.4\n"
          ]
        }
      ]
    },
    {
      "cell_type": "code",
      "source": [
        "# solução independente\n",
        "nos = []\n",
        "maior = 0\n",
        "for conx in amizade.values():\n",
        "    if len(conx) > maior:\n",
        "        maior = len(conx)\n",
        "\n",
        "for k, v in amizade.items():\n",
        "    if len(v) == maior:\n",
        "        nos.append(k)\n",
        "\n",
        "print(f'Maior número de conexões é: {maior}')\n",
        "print(f'Nós com maior grau de centralidade: {nos}')"
      ],
      "metadata": {
        "colab": {
          "base_uri": "https://localhost:8080/"
        },
        "id": "dTry0ispsV9T",
        "outputId": "956c0ccb-7310-4b72-de35-97fc9d96bdef"
      },
      "execution_count": 5,
      "outputs": [
        {
          "output_type": "stream",
          "name": "stdout",
          "text": [
            "Maior número de conexões é: 3\n",
            "Nós com maior grau de centralidade: [1, 2, 3, 5, 8]\n"
          ]
        }
      ]
    },
    {
      "cell_type": "code",
      "source": [
        "# solução independente\n",
        "resultado = {}\n",
        "for k, v in amizade.items():\n",
        "    for a in v:\n",
        "        for i in amizade[a]:\n",
        "            if i == k or i in v:\n",
        "                continue\n",
        "            else:\n",
        "                if k not in resultado:\n",
        "                    resultado[k] = {}\n",
        "                if i not in resultado[k]:\n",
        "                    resultado[k][i] = 1\n",
        "                else:\n",
        "                    resultado[k][i] += 1\n",
        "\n",
        "\n",
        "print(resultado)"
      ],
      "metadata": {
        "id": "4zYFcVV2scvg",
        "colab": {
          "base_uri": "https://localhost:8080/"
        },
        "outputId": "a50f4e07-fbe9-4c10-eaf4-add84d1c5393"
      },
      "execution_count": 6,
      "outputs": [
        {
          "output_type": "stream",
          "name": "stdout",
          "text": [
            "{0: {3: 2}, 1: {4: 1}, 2: {4: 1}, 3: {0: 2, 5: 1}, 4: {1: 1, 2: 1, 6: 1, 7: 1}, 5: {3: 1, 8: 2}, 6: {4: 1, 7: 2, 9: 1}, 7: {4: 1, 6: 2, 9: 1}, 8: {5: 2}, 9: {6: 1, 7: 1}}\n"
          ]
        }
      ]
    },
    {
      "cell_type": "code",
      "source": [
        "interesses = [\n",
        "    (0, \"Hadoop\"), (0, \"Big Data\"), (0, \"HBase\"), (0, \"Java\"),\n",
        "    (0, \"Spark\"), (0, \"Storn\"), (0, \"Cassandra\"),\n",
        "    (1, \"NoSQL\"), (1, \"MongoDB\"), (1, \"Cassandra\"), (1, \"HBase\"),\n",
        "    (1, \"Postgres\"), (2, \"Python\"), (2, \"scikit-learn\"), (2, \"scipy\"),\n",
        "    (2, \"numpy\"), (2, \"statsmodels\"), (2, \"pandas\"), (3, \"R\"), (3, \"Python\"),\n",
        "    (3, \"statistics\"), (3, \"regression\"), (3, \"probability\"),\n",
        "    (4, \"machine learning\"), (4, \"regression\"), (4,\"decision trees\"),\n",
        "    (4, \"libsvm\"), (5, \"Python\"), (5, \"R\"), (5, \"Java\"), (5, \"C++\"),\n",
        "    (5, \"Haskell\"), (5, \"programming languages\"), (6, \"statistics\"),\n",
        "    (6, \"probability\"), (6, \"mathematics\"),(6, \"theory\"),\n",
        "    (7, \"machine learning\"), (7, \"scikit-learn\"), (7, \"Mahout\"),\n",
        "    (7, \"neural networks\"), (8, \"neural networks\"), (8, \"deep learning\"),\n",
        "    (8, \"Big Data\"), (8, \"articial intelligence\"), (9, \"Hadoop\"),\n",
        "    (9, \"Java\"), (9, \"MapReduce\"), (9, \"Big Data\")\n",
        "]"
      ],
      "metadata": {
        "id": "_D7l_EBoliiT"
      },
      "execution_count": 16,
      "outputs": []
    },
    {
      "cell_type": "code",
      "source": [
        "# solucao independente\n",
        "interesses_comuns = []\n",
        "for item in interesses:\n",
        "        for element in interesses:\n",
        "            if item[0] == element[0]:\n",
        "                continue\n",
        "            elif item[1] == element[1]:\n",
        "                interesses_comuns.append((item[0], element[0]))\n",
        "print(interesses_comuns)"
      ],
      "metadata": {
        "colab": {
          "base_uri": "https://localhost:8080/"
        },
        "id": "3C2mk1VQ38XL",
        "outputId": "7ab81935-fd67-4601-9d6f-cae244bbc1d5"
      },
      "execution_count": 8,
      "outputs": [
        {
          "output_type": "stream",
          "name": "stdout",
          "text": [
            "[(0, 9), (0, 8), (0, 9), (0, 1), (0, 5), (0, 9), (0, 1), (1, 0), (1, 0), (2, 3), (2, 5), (3, 5), (3, 2), (3, 5), (3, 6), (3, 4), (3, 6), (4, 3), (5, 2), (5, 3), (5, 3), (5, 0), (5, 9), (6, 3), (6, 3), (7, 8), (8, 7), (8, 0), (8, 9), (9, 0), (9, 0), (9, 5), (9, 0), (9, 8)]\n"
          ]
        }
      ]
    },
    {
      "cell_type": "code",
      "source": [
        "salarios_experiencia = [(83000,8.7),(88000,8.1),\n",
        "                        (48000,0.7),(76000,6),\n",
        "                        (69000,6.5),(76000,7.5),\n",
        "                        (60000,2.5),(83000,10),\n",
        "                        (48000,1.9),(63000,4.2)]"
      ],
      "metadata": {
        "id": "VYceMfIL3_KN"
      },
      "execution_count": 9,
      "outputs": []
    },
    {
      "cell_type": "code",
      "source": [
        "# solucação independente\n",
        "soma = 0\n",
        "media_salario = 0\n",
        "for i,n in salarios_experiencia:\n",
        "  soma += i\n",
        "\n",
        "media_salario = soma / 10\n",
        "print(f'Salário em média: {media_salario}')"
      ],
      "metadata": {
        "colab": {
          "base_uri": "https://localhost:8080/"
        },
        "id": "H8cvXzIq-J-O",
        "outputId": "a3794c7f-2505-4f2a-8371-2ad69e504086"
      },
      "execution_count": 10,
      "outputs": [
        {
          "output_type": "stream",
          "name": "stdout",
          "text": [
            "Salário em média: 69400.0\n"
          ]
        }
      ]
    },
    {
      "cell_type": "code",
      "source": [
        "# solução independente\n",
        "soma = 0\n",
        "media_anos = 0\n",
        "for _,n in salarios_experiencia:\n",
        "  soma += n\n",
        "\n",
        "media_anos = soma / 10\n",
        "print(f'Média de anos de experiência: {media_anos}')"
      ],
      "metadata": {
        "colab": {
          "base_uri": "https://localhost:8080/"
        },
        "id": "9krQS5Zd-wLX",
        "outputId": "e8e79af0-becf-4c0f-a9c1-1caf317ffdba"
      },
      "execution_count": 11,
      "outputs": [
        {
          "output_type": "stream",
          "name": "stdout",
          "text": [
            "Média de anos de experiência: 5.61\n"
          ]
        }
      ]
    },
    {
      "cell_type": "code",
      "source": [
        "# solução independente\n",
        "dicionario_vazio = {}\n",
        "for i, n in salarios_experiencia:\n",
        "    dicionario_vazio[n] = i\n",
        "\n",
        "dicionario_ordenado = dict(sorted(dicionario_vazio.items())) # Ajuda do ChatGPT\n",
        "\n",
        "print(dicionario_ordenado)"
      ],
      "metadata": {
        "id": "qoz-sMiYCrbO",
        "colab": {
          "base_uri": "https://localhost:8080/"
        },
        "outputId": "43eb1afd-af1b-46a0-f843-c88c2da834ac"
      },
      "execution_count": 12,
      "outputs": [
        {
          "output_type": "stream",
          "name": "stdout",
          "text": [
            "{0.7: 48000, 1.9: 48000, 2.5: 60000, 4.2: 63000, 6: 76000, 6.5: 69000, 7.5: 76000, 8.1: 88000, 8.7: 83000, 10: 83000}\n"
          ]
        }
      ]
    },
    {
      "cell_type": "code",
      "source": [
        "# solução independente\n",
        "soma_1 = 0\n",
        "soma_2 = 0\n",
        "soma_3 = 0\n",
        "media_1 = 0\n",
        "media_2 = 0\n",
        "media_3 = 0\n",
        "\n",
        "for k, v in dicionario_ordenado.items():\n",
        "    if k < 2:\n",
        "        soma_1 += v\n",
        "        media_1  = soma_1 / 2\n",
        "    elif k < 5:\n",
        "        soma_2 += v\n",
        "        media_2 = soma_2 / 2\n",
        "    else:\n",
        "        soma_3 += v\n",
        "        media_3 = soma_3 / 6\n",
        "\n",
        "print(f'Média salarial entre 2 anos e 5 anos de experiência: {media_2}')\n",
        "print(f'Média salarial entre anos de experiência menor que 2 anos: {media_2}')\n",
        "print(f'Média salarial para anos de experiência maior que 5 anos: {media_2}')"
      ],
      "metadata": {
        "colab": {
          "base_uri": "https://localhost:8080/"
        },
        "id": "QkcgGJQ1wtM2",
        "outputId": "2e866784-2b5f-401a-aa54-caefe5430ce6"
      },
      "execution_count": 13,
      "outputs": [
        {
          "output_type": "stream",
          "name": "stdout",
          "text": [
            "Média salarial entre 2 anos e 5 anos de experiência: 61500.0\n",
            "Média salarial entre anos de experiência menor que 2 anos: 61500.0\n",
            "Média salarial para anos de experiência maior que 5 anos: 61500.0\n"
          ]
        }
      ]
    },
    {
      "cell_type": "markdown",
      "source": [
        "# Plotando o gráfico de dispersão a respeito da análise do salário por anos de experiência"
      ],
      "metadata": {
        "id": "SL3IvTrA5SAt"
      }
    },
    {
      "cell_type": "code",
      "source": [
        "import matplotlib.pyplot as plt\n",
        "import numpy as np"
      ],
      "metadata": {
        "id": "dPilGO0n5MOh"
      },
      "execution_count": 14,
      "outputs": []
    },
    {
      "cell_type": "code",
      "source": [
        "x = []\n",
        "y = []\n",
        "\n",
        "for i,n in salarios_experiencia:\n",
        "  x.append(n)\n",
        "  y.append(i)\n",
        "\n",
        "# solucação retirada do livro: Capítulo 3 - página 53\n",
        "plt.scatter(x,y)\n",
        "plt.title(\"Salário por ano de experiência\")\n",
        "plt.xlabel(\"Anos de experiência\")\n",
        "plt.ylabel(\"Salários\")\n",
        "plt.show()"
      ],
      "metadata": {
        "colab": {
          "base_uri": "https://localhost:8080/",
          "height": 473
        },
        "id": "wOC1QNAX5afB",
        "outputId": "70a600c2-db5b-425c-b12f-535bad45d430"
      },
      "execution_count": 15,
      "outputs": [
        {
          "output_type": "display_data",
          "data": {
            "text/plain": [
              "<Figure size 640x480 with 1 Axes>"
            ],
            "image/png": "[encoded data removed]"
          },
          "metadata": {}
        }
      ]
    },
    {
      "cell_type": "code",
      "source": [
        "# solução independente\n",
        "cont_interesses = {}\n",
        "for i, v in interesses:\n",
        "    cont_interesses[v] = 0\n",
        "    for item in interesses:\n",
        "        if item[1] == v:\n",
        "            cont_interesses[v] += 1"
      ],
      "metadata": {
        "id": "lZ3tCh868ZHI"
      },
      "execution_count": 19,
      "outputs": []
    },
    {
      "cell_type": "code",
      "source": [
        "# solução independente\n",
        "maiores_interesses = {}\n",
        "for k, v in cont_interesses.items():\n",
        "    if v > 1:\n",
        "        maiores_interesses[k] = v\n",
        "print(maiores_interesses)"
      ],
      "metadata": {
        "colab": {
          "base_uri": "https://localhost:8080/"
        },
        "id": "dpedbdbER7Ai",
        "outputId": "795ec77e-94cb-4549-e8e8-c8444b638e40"
      },
      "execution_count": 20,
      "outputs": [
        {
          "output_type": "stream",
          "name": "stdout",
          "text": [
            "{'Hadoop': 2, 'Big Data': 3, 'HBase': 2, 'Java': 3, 'Cassandra': 2, 'Python': 3, 'scikit-learn': 2, 'R': 2, 'statistics': 2, 'regression': 2, 'probability': 2, 'machine learning': 2, 'neural networks': 2}\n"
          ]
        }
      ]
    }
  ]
}