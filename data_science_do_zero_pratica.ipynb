{
  "nbformat": 4,
  "nbformat_minor": 0,
  "metadata": {
    "colab": {
      "provenance": [],
      "authorship_tag": "ABX9TyPtWihDq6DCbbYShZJOAv5/",
      "include_colab_link": true
    },
    "kernelspec": {
      "name": "python3",
      "display_name": "Python 3"
    },
    "language_info": {
      "name": "python"
    }
  },
  "cells": [
    {
      "cell_type": "markdown",
      "metadata": {
        "id": "view-in-github",
        "colab_type": "text"
      },
      "source": [
        "<a href=\"https://colab.research.google.com/github/sarasantosds/data-science-do-zero-pratica/blob/main/data_science_do_zero_pratica.ipynb\" target=\"_parent\"><img src=\"https://colab.research.google.com/assets/colab-badge.svg\" alt=\"Open In Colab\"/></a>"
      ]
    },
    {
      "cell_type": "markdown",
      "source": [
        "# Data Science do Zero: Noções fundamentais em Python\n",
        "\n",
        "### Praticando os exemplos do livro de forma independente"
      ],
      "metadata": {
        "id": "HMldaOrYqXre"
      }
    },
    {
      "cell_type": "markdown",
      "source": [
        "Os exemplos aqui praticados não visam copiar a lógica do autor Joel Grus, mas sim explorar outras formas de se chegar ao mesmo resultado por ele obtido.\n",
        "Quando a solução for retirada do livro irei mencionar em comentário ou fazer comparação com a solução aqui exposta."
      ],
      "metadata": {
        "id": "gyHDTcZ5rRxB"
      }
    },
    {
      "cell_type": "code",
      "execution_count": 1,
      "metadata": {
        "id": "hJZ5sGHvqCVy"
      },
      "outputs": [],
      "source": [
        "usuarios = [\n",
        "    {\"id\": 0, \"name\": \"Xin\"},\n",
        "    {\"id\": 1, \"name\": \"San\"},\n",
        "    {\"id\": 2, \"name\": \"Ped\"},\n",
        "    {\"id\": 3, \"name\": \"Chin\"},\n",
        "    {\"id\": 4, \"name\": \"Gol\"},\n",
        "    {\"id\": 5, \"name\": \"Nen\"},\n",
        "    {\"id\": 6, \"name\": \"Pod\"},\n",
        "    {\"id\": 7, \"name\": \"Dev\"},\n",
        "    {\"id\": 8, \"name\": \"Kat\"},\n",
        "    {\"id\": 9, \"name\": \"Klen\"}\n",
        "]"
      ]
    },
    {
      "cell_type": "code",
      "source": [
        "amigos = [(0,1), (0,2), (1,2), (1,3), (2,3), (3,4), (4,5), (5,6), (5,7), (6,8), (7,8), (8,9)]"
      ],
      "metadata": {
        "id": "fKcHPfh5rq9Y"
      },
      "execution_count": 2,
      "outputs": []
    },
    {
      "cell_type": "code",
      "source": [
        "# solução retirada do livro - página 5\n",
        "amizade = {usuario[\"id\"]: [] for usuario in usuarios}\n",
        "\n",
        "for i, j in amigos:\n",
        "    amizade[i].append(j)\n",
        "    amizade[j].append(i)\n",
        "\n",
        "print(amizade)"
      ],
      "metadata": {
        "colab": {
          "base_uri": "https://localhost:8080/"
        },
        "id": "MgIfSJAkrvQk",
        "outputId": "c522a56d-69da-4c9c-9528-3458438220e3"
      },
      "execution_count": 3,
      "outputs": [
        {
          "output_type": "stream",
          "name": "stdout",
          "text": [
            "{0: [1, 2], 1: [0, 2, 3], 2: [0, 1, 3], 3: [1, 2, 4], 4: [3, 5], 5: [4, 6, 7], 6: [5, 8], 7: [5, 8], 8: [6, 7, 9], 9: [8]}\n"
          ]
        }
      ]
    },
    {
      "cell_type": "code",
      "source": [
        "# solução independente\n",
        "l = 0\n",
        "for amigo in amizade.values():\n",
        "    l += len(amigo)\n",
        "\n",
        "gm = l / len(amizade)\n",
        "\n",
        "print(f'Média de conexões: {round(gm, 1)}')"
      ],
      "metadata": {
        "colab": {
          "base_uri": "https://localhost:8080/"
        },
        "id": "qe7r84m9sKxE",
        "outputId": "25202842-474e-48ff-91de-9dda74dc4b8e"
      },
      "execution_count": 4,
      "outputs": [
        {
          "output_type": "stream",
          "name": "stdout",
          "text": [
            "Média de conexões: 2.4\n"
          ]
        }
      ]
    },
    {
      "cell_type": "code",
      "source": [
        "# solução independente\n",
        "nos = []\n",
        "maior = 0\n",
        "for conx in amizade.values():\n",
        "    if len(conx) > maior:\n",
        "        maior = len(conx)\n",
        "\n",
        "for k, v in amizade.items():\n",
        "    if len(v) == maior:\n",
        "        nos.append(k)\n",
        "\n",
        "print(f'Maior número de conexões é: {maior}')\n",
        "print(f'Nós com maior grau de centralidade: {nos}')"
      ],
      "metadata": {
        "colab": {
          "base_uri": "https://localhost:8080/"
        },
        "id": "dTry0ispsV9T",
        "outputId": "0a935481-8249-48dd-ede4-af61a630df07"
      },
      "execution_count": 5,
      "outputs": [
        {
          "output_type": "stream",
          "name": "stdout",
          "text": [
            "Maior número de conexões é: 3\n",
            "Nós com maior grau de centralidade: [1, 2, 3, 5, 8]\n"
          ]
        }
      ]
    },
    {
      "cell_type": "code",
      "source": [
        "# solução independente\n",
        "resultado = {}\n",
        "for k, v in amizade.items():\n",
        "    for a in v:\n",
        "        for i in amizade[a]:\n",
        "            if i == k or i in v:\n",
        "                continue\n",
        "            else:\n",
        "                if k not in resultado:\n",
        "                    resultado[k] = {}\n",
        "                if i not in resultado[k]:\n",
        "                    resultado[k][i] = 1\n",
        "                else:\n",
        "                    resultado[k][i] += 1\n",
        "\n",
        "\n",
        "print(resultado)"
      ],
      "metadata": {
        "id": "4zYFcVV2scvg",
        "colab": {
          "base_uri": "https://localhost:8080/"
        },
        "outputId": "07a313ba-d858-464c-ac6a-03988982ea1f"
      },
      "execution_count": 6,
      "outputs": [
        {
          "output_type": "stream",
          "name": "stdout",
          "text": [
            "{0: {3: 2}, 1: {4: 1}, 2: {4: 1}, 3: {0: 2, 5: 1}, 4: {1: 1, 2: 1, 6: 1, 7: 1}, 5: {3: 1, 8: 2}, 6: {4: 1, 7: 2, 9: 1}, 7: {4: 1, 6: 2, 9: 1}, 8: {5: 2}, 9: {6: 1, 7: 1}}\n"
          ]
        }
      ]
    },
    {
      "cell_type": "code",
      "source": [
        "interesses = [\n",
        "    (0, \"Hadoop\"), (0, \"Big Data\"), (0, \"HBase\"), (0, \"Java\"),\n",
        "    (0, \"Spark\"), (0, \"Storn\"), (0, \"Cassandra\"),\n",
        "    (1, \"NoSQL\"), (1, \"MongoDB\"), (1, \"Cassandra\"), (1, \"HBase\"),\n",
        "    (1, \"Postgres\"), (2, \"Python\"), (2, \"scikit-learn\"), (2, \"scipy\"),\n",
        "    (2, \"numpy\"), (2, \"statsmodels\"), (2, \"pandas\"), (3, \"R\"), (3, \"Python\"),\n",
        "    (3, \"statistics\"), (3, \"regression\"), (3, \"probability\"),\n",
        "    (4, \"machine learning\"), (4, \"regression\"), (4,\"decision trees\"),\n",
        "    (4, \"libsvm\"), (5, \"Python\"), (5, \"R\"), (5, \"Java\"), (5, \"C++\"),\n",
        "    (5, \"Haskell\"), (5, \"programming languages\"), (6, \"statistics\"),\n",
        "    (6, \"probability\"), (6, \"mathematics\"),(6, \"theory\"),\n",
        "    (7, \"neural networks\"), (8, \"neural networks\"), (8, \"deep learning\"),\n",
        "    (8, \"Big Data\"), (8, \"articial intelligence\"), (9, \"Hadoop\"),\n",
        "    (9, \"Java\"), (9, \"MapReduce\"), (9, \"Big Data\")\n",
        "]"
      ],
      "metadata": {
        "id": "_D7l_EBoliiT"
      },
      "execution_count": 7,
      "outputs": []
    },
    {
      "cell_type": "code",
      "source": [
        "interesses_comuns = []\n",
        "for item in interesses:\n",
        "        for element in interesses:\n",
        "            if item[0] == element[0]:\n",
        "                continue\n",
        "            elif item[1] == element[1]:\n",
        "                interesses_comuns.append((item[0], element[0]))\n",
        "print(interesses_comuns)"
      ],
      "metadata": {
        "id": "AlOKSb-tI-gc",
        "colab": {
          "base_uri": "https://localhost:8080/"
        },
        "outputId": "94a196ab-2a66-467b-a1a8-1d411da55c6a"
      },
      "execution_count": 9,
      "outputs": [
        {
          "output_type": "stream",
          "name": "stdout",
          "text": [
            "[(0, 9), (0, 8), (0, 9), (0, 1), (0, 5), (0, 9), (0, 1), (1, 0), (1, 0), (2, 3), (2, 5), (3, 5), (3, 2), (3, 5), (3, 6), (3, 4), (3, 6), (4, 3), (5, 2), (5, 3), (5, 3), (5, 0), (5, 9), (6, 3), (6, 3), (7, 8), (8, 7), (8, 0), (8, 9), (9, 0), (9, 0), (9, 5), (9, 0), (9, 8)]\n"
          ]
        }
      ]
    }
  ]
}