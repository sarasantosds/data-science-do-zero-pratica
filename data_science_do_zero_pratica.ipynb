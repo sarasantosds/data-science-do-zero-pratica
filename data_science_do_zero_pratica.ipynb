{
  "nbformat": 4,
  "nbformat_minor": 0,
  "metadata": {
    "colab": {
      "provenance": [],
      "authorship_tag": "ABX9TyNJuMaKIC8gI9/tR6IQdHu+",
      "include_colab_link": true
    },
    "kernelspec": {
      "name": "python3",
      "display_name": "Python 3"
    },
    "language_info": {
      "name": "python"
    }
  },
  "cells": [
    {
      "cell_type": "markdown",
      "metadata": {
        "id": "view-in-github",
        "colab_type": "text"
      },
      "source": [
        "<a href=\"https://colab.research.google.com/github/sarasantosds/data-science-do-zero-pratica/blob/main/data_science_do_zero_pratica.ipynb\" target=\"_parent\"><img src=\"https://colab.research.google.com/assets/colab-badge.svg\" alt=\"Open In Colab\"/></a>"
      ]
    },
    {
      "cell_type": "markdown",
      "source": [
        "# Data Science do Zero: Noções fundamentais em Python\n",
        "\n",
        "### Praticando os exemplos do livro de forma independente"
      ],
      "metadata": {
        "id": "HMldaOrYqXre"
      }
    },
    {
      "cell_type": "markdown",
      "source": [
        "Os exemplos aqui praticados não visam copiar a lógica do autor Joel Grus, mas sim explorar outras formas de se chegar ao mesmo resultado por ele obtido.\n",
        "Quando a solução for retirada do livro irei mencionar em comentário ou fazer comparação com a solução aqui exposta."
      ],
      "metadata": {
        "id": "gyHDTcZ5rRxB"
      }
    },
    {
      "cell_type": "code",
      "execution_count": 1,
      "metadata": {
        "id": "hJZ5sGHvqCVy"
      },
      "outputs": [],
      "source": [
        "usuarios = [\n",
        "    {\"id\": 0, \"name\": \"Xin\"},\n",
        "    {\"id\": 1, \"name\": \"San\"},\n",
        "    {\"id\": 2, \"name\": \"Ped\"},\n",
        "    {\"id\": 3, \"name\": \"Chin\"},\n",
        "    {\"id\": 4, \"name\": \"Gol\"},\n",
        "    {\"id\": 5, \"name\": \"Nen\"},\n",
        "    {\"id\": 6, \"name\": \"Pod\"},\n",
        "    {\"id\": 7, \"name\": \"Dev\"},\n",
        "    {\"id\": 8, \"name\": \"Kat\"},\n",
        "    {\"id\": 9, \"name\": \"Klen\"}\n",
        "]"
      ]
    },
    {
      "cell_type": "code",
      "source": [
        "amigos = [(0,1), (0,2), (1,2), (1,3), (2,3), (3,4), (4,5), (5,6), (5,7), (6,8), (7,8), (8,9)]"
      ],
      "metadata": {
        "id": "fKcHPfh5rq9Y"
      },
      "execution_count": 2,
      "outputs": []
    },
    {
      "cell_type": "code",
      "source": [
        "# solução retirada do livro - página 5\n",
        "amizade = {usuario[\"id\"]: [] for usuario in usuarios}\n",
        "\n",
        "for i, j in amigos:\n",
        "    amizade[i].append(j)\n",
        "    amizade[j].append(i)\n",
        "\n",
        "print(amizade)"
      ],
      "metadata": {
        "colab": {
          "base_uri": "https://localhost:8080/"
        },
        "id": "MgIfSJAkrvQk",
        "outputId": "3c23e993-ab27-41d9-95ae-f670f7de3236"
      },
      "execution_count": 8,
      "outputs": [
        {
          "output_type": "stream",
          "name": "stdout",
          "text": [
            "{0: [1, 2], 1: [0, 2, 3], 2: [0, 1, 3], 3: [1, 2, 4], 4: [3, 5], 5: [4, 6, 7], 6: [5, 8], 7: [5, 8], 8: [6, 7, 9], 9: [8]}\n"
          ]
        }
      ]
    },
    {
      "cell_type": "code",
      "source": [
        "# solução independente\n",
        "l = 0\n",
        "for amigo in amizade.values():\n",
        "    l += len(amigo)\n",
        "\n",
        "gm = l / len(amizade)\n",
        "\n",
        "print(f'Média de conexões: {round(gm, 1)}')"
      ],
      "metadata": {
        "colab": {
          "base_uri": "https://localhost:8080/"
        },
        "id": "qe7r84m9sKxE",
        "outputId": "b6120cc9-5cc4-49f9-dd99-90e7705ff5ef"
      },
      "execution_count": 5,
      "outputs": [
        {
          "output_type": "stream",
          "name": "stdout",
          "text": [
            "Média de conexões: 2.4\n"
          ]
        }
      ]
    },
    {
      "cell_type": "code",
      "source": [
        "# solução independente\n",
        "nos = []\n",
        "maior = 0\n",
        "for conx in amizade.values():\n",
        "    if len(conx) > maior:\n",
        "        maior = len(conx)\n",
        "\n",
        "for k, v in amizade.items():\n",
        "    if len(v) == maior:\n",
        "        nos.append(k)\n",
        "\n",
        "print(f'Maior número de conexões é: {maior}')\n",
        "print(f'Nós com maior grau de centralidade: {nos}')"
      ],
      "metadata": {
        "colab": {
          "base_uri": "https://localhost:8080/"
        },
        "id": "dTry0ispsV9T",
        "outputId": "08e8b06a-4f30-4b08-fc2b-c404e25162a6"
      },
      "execution_count": 7,
      "outputs": [
        {
          "output_type": "stream",
          "name": "stdout",
          "text": [
            "Maior número de conexões é: 3\n",
            "Nós com maior grau de centralidade: [1, 2, 3, 5, 8]\n"
          ]
        }
      ]
    },
    {
      "cell_type": "code",
      "source": [],
      "metadata": {
        "id": "4zYFcVV2scvg"
      },
      "execution_count": null,
      "outputs": []
    }
  ]
}